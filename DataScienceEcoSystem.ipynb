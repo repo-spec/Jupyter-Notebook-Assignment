{
 "cells": [
  {
   "cell_type": "markdown",
   "id": "f69427c6",
   "metadata": {},
   "source": [
    "# Data Science Tools and EcoSystem"
   ]
  },
  {
   "cell_type": "markdown",
   "id": "65d9be5b",
   "metadata": {},
   "source": [
    "## In this notebook, Data Science Tools and Ecosystem are summarized. "
   ]
  },
  {
   "cell_type": "markdown",
   "id": "7963fa25",
   "metadata": {},
   "source": [
    "## Objectives\n",
    "* List popular languages that Data Scientists use \n",
    "* List commonly used libraries used by Data Scientists \n",
    "* List Data Science Tools \n",
    "* Evaluate arithmetic expressions\n",
    "\n"
   ]
  },
  {
   "cell_type": "markdown",
   "id": "8ab9e60f",
   "metadata": {},
   "source": [
    "## Author\n",
    "Divya KrishnaKumar"
   ]
  },
  {
   "cell_type": "markdown",
   "id": "2ab866bb",
   "metadata": {},
   "source": [
    "### Some of the popular languages that Data Scientists use are:\n",
    "1. Python\n",
    "2. R\n",
    "3. Julia\n",
    "4. Scala\n",
    "5. SQL"
   ]
  },
  {
   "cell_type": "markdown",
   "id": "f0329459",
   "metadata": {},
   "source": [
    "### Some of the commonly used libraries used by Data Scientists include:\n",
    "1. Pandas\n",
    "2. Numpy\n",
    "3. Matplotlib\n",
    "4. sklearn\n",
    "5. ggplot2\n",
    "6. GGally\n",
    "4. Caret\n",
    "5. Lattice\n",
    "6. Leaflet"
   ]
  },
  {
   "cell_type": "markdown",
   "id": "6d281b94",
   "metadata": {},
   "source": [
    "| Data Science Tools |\n",
    "| ---- |\n",
    "| Jupyter Lab |\n",
    "| RStudio |\n",
    "| Jupyter Notebook |\n",
    "| IBM Watson Studio |\n"
   ]
  },
  {
   "cell_type": "markdown",
   "id": "ef680d5b",
   "metadata": {},
   "source": [
    "### Below are a few examples of evaluating arithmetic expressions in Python."
   ]
  },
  {
   "cell_type": "code",
   "execution_count": 1,
   "id": "f11ec4cb",
   "metadata": {},
   "outputs": [
    {
     "data": {
      "text/plain": [
       "17"
      ]
     },
     "execution_count": 1,
     "metadata": {},
     "output_type": "execute_result"
    }
   ],
   "source": [
    "# This is a simple arithmetic expression to multiply and then add integers\n",
    "(3*4)+5"
   ]
  },
  {
   "cell_type": "code",
   "execution_count": 4,
   "id": "db9af652",
   "metadata": {},
   "outputs": [
    {
     "name": "stdout",
     "output_type": "stream",
     "text": [
      "200 minutes =  3.33 hours\n"
     ]
    }
   ],
   "source": [
    "# This will convert minutes to hours by dividing by 60.\n",
    "minutes=200\n",
    "hours=round(200/60,2)\n",
    "print(minutes,\"minutes = \",hours,\"hours\")"
   ]
  },
  {
   "cell_type": "code",
   "execution_count": null,
   "id": "4fc084d6",
   "metadata": {},
   "outputs": [],
   "source": []
  }
 ],
 "metadata": {
  "kernelspec": {
   "display_name": "Python 3 (ipykernel)",
   "language": "python",
   "name": "python3"
  },
  "language_info": {
   "codemirror_mode": {
    "name": "ipython",
    "version": 3
   },
   "file_extension": ".py",
   "mimetype": "text/x-python",
   "name": "python",
   "nbconvert_exporter": "python",
   "pygments_lexer": "ipython3",
   "version": "3.10.9"
  }
 },
 "nbformat": 4,
 "nbformat_minor": 5
}
